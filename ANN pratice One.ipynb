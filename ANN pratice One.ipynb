{
 "cells": [
  {
   "cell_type": "code",
   "execution_count": 55,
   "metadata": {},
   "outputs": [],
   "source": [
    "import numpy as np\n",
    "import pandas as pd\n",
    "import matplotlib.pyplot as plt\n"
   ]
  },
  {
   "cell_type": "code",
   "execution_count": 56,
   "metadata": {},
   "outputs": [
    {
     "data": {
      "text/html": [
       "<div>\n",
       "<style scoped>\n",
       "    .dataframe tbody tr th:only-of-type {\n",
       "        vertical-align: middle;\n",
       "    }\n",
       "\n",
       "    .dataframe tbody tr th {\n",
       "        vertical-align: top;\n",
       "    }\n",
       "\n",
       "    .dataframe thead th {\n",
       "        text-align: right;\n",
       "    }\n",
       "</style>\n",
       "<table border=\"1\" class=\"dataframe\">\n",
       "  <thead>\n",
       "    <tr style=\"text-align: right;\">\n",
       "      <th></th>\n",
       "      <th>RowNumber</th>\n",
       "      <th>CustomerId</th>\n",
       "      <th>Surname</th>\n",
       "      <th>CreditScore</th>\n",
       "      <th>Geography</th>\n",
       "      <th>Gender</th>\n",
       "      <th>Age</th>\n",
       "      <th>Tenure</th>\n",
       "      <th>Balance</th>\n",
       "      <th>NumOfProducts</th>\n",
       "      <th>HasCrCard</th>\n",
       "      <th>IsActiveMember</th>\n",
       "      <th>EstimatedSalary</th>\n",
       "      <th>Exited</th>\n",
       "    </tr>\n",
       "  </thead>\n",
       "  <tbody>\n",
       "    <tr>\n",
       "      <th>0</th>\n",
       "      <td>1</td>\n",
       "      <td>15634602</td>\n",
       "      <td>Hargrave</td>\n",
       "      <td>619</td>\n",
       "      <td>France</td>\n",
       "      <td>Female</td>\n",
       "      <td>42</td>\n",
       "      <td>2</td>\n",
       "      <td>0.00</td>\n",
       "      <td>1</td>\n",
       "      <td>1</td>\n",
       "      <td>1</td>\n",
       "      <td>101348.88</td>\n",
       "      <td>1</td>\n",
       "    </tr>\n",
       "    <tr>\n",
       "      <th>1</th>\n",
       "      <td>2</td>\n",
       "      <td>15647311</td>\n",
       "      <td>Hill</td>\n",
       "      <td>608</td>\n",
       "      <td>Spain</td>\n",
       "      <td>Female</td>\n",
       "      <td>41</td>\n",
       "      <td>1</td>\n",
       "      <td>83807.86</td>\n",
       "      <td>1</td>\n",
       "      <td>0</td>\n",
       "      <td>1</td>\n",
       "      <td>112542.58</td>\n",
       "      <td>0</td>\n",
       "    </tr>\n",
       "    <tr>\n",
       "      <th>2</th>\n",
       "      <td>3</td>\n",
       "      <td>15619304</td>\n",
       "      <td>Onio</td>\n",
       "      <td>502</td>\n",
       "      <td>France</td>\n",
       "      <td>Female</td>\n",
       "      <td>42</td>\n",
       "      <td>8</td>\n",
       "      <td>159660.80</td>\n",
       "      <td>3</td>\n",
       "      <td>1</td>\n",
       "      <td>0</td>\n",
       "      <td>113931.57</td>\n",
       "      <td>1</td>\n",
       "    </tr>\n",
       "    <tr>\n",
       "      <th>3</th>\n",
       "      <td>4</td>\n",
       "      <td>15701354</td>\n",
       "      <td>Boni</td>\n",
       "      <td>699</td>\n",
       "      <td>France</td>\n",
       "      <td>Female</td>\n",
       "      <td>39</td>\n",
       "      <td>1</td>\n",
       "      <td>0.00</td>\n",
       "      <td>2</td>\n",
       "      <td>0</td>\n",
       "      <td>0</td>\n",
       "      <td>93826.63</td>\n",
       "      <td>0</td>\n",
       "    </tr>\n",
       "    <tr>\n",
       "      <th>4</th>\n",
       "      <td>5</td>\n",
       "      <td>15737888</td>\n",
       "      <td>Mitchell</td>\n",
       "      <td>850</td>\n",
       "      <td>Spain</td>\n",
       "      <td>Female</td>\n",
       "      <td>43</td>\n",
       "      <td>2</td>\n",
       "      <td>125510.82</td>\n",
       "      <td>1</td>\n",
       "      <td>1</td>\n",
       "      <td>1</td>\n",
       "      <td>79084.10</td>\n",
       "      <td>0</td>\n",
       "    </tr>\n",
       "  </tbody>\n",
       "</table>\n",
       "</div>"
      ],
      "text/plain": [
       "   RowNumber  CustomerId   Surname  CreditScore Geography  Gender  Age  \\\n",
       "0          1    15634602  Hargrave          619    France  Female   42   \n",
       "1          2    15647311      Hill          608     Spain  Female   41   \n",
       "2          3    15619304      Onio          502    France  Female   42   \n",
       "3          4    15701354      Boni          699    France  Female   39   \n",
       "4          5    15737888  Mitchell          850     Spain  Female   43   \n",
       "\n",
       "   Tenure    Balance  NumOfProducts  HasCrCard  IsActiveMember  \\\n",
       "0       2       0.00              1          1               1   \n",
       "1       1   83807.86              1          0               1   \n",
       "2       8  159660.80              3          1               0   \n",
       "3       1       0.00              2          0               0   \n",
       "4       2  125510.82              1          1               1   \n",
       "\n",
       "   EstimatedSalary  Exited  \n",
       "0        101348.88       1  \n",
       "1        112542.58       0  \n",
       "2        113931.57       1  \n",
       "3         93826.63       0  \n",
       "4         79084.10       0  "
      ]
     },
     "execution_count": 56,
     "metadata": {},
     "output_type": "execute_result"
    }
   ],
   "source": [
    "df = pd.read_csv('Churn_Modelling.csv')\n",
    "df.head()"
   ]
  },
  {
   "cell_type": "code",
   "execution_count": 57,
   "metadata": {},
   "outputs": [
    {
     "data": {
      "text/plain": [
       "RowNumber          0\n",
       "CustomerId         0\n",
       "Surname            0\n",
       "CreditScore        0\n",
       "Geography          0\n",
       "Gender             0\n",
       "Age                0\n",
       "Tenure             0\n",
       "Balance            0\n",
       "NumOfProducts      0\n",
       "HasCrCard          0\n",
       "IsActiveMember     0\n",
       "EstimatedSalary    0\n",
       "Exited             0\n",
       "dtype: int64"
      ]
     },
     "execution_count": 57,
     "metadata": {},
     "output_type": "execute_result"
    }
   ],
   "source": [
    "df.isnull().sum()"
   ]
  },
  {
   "cell_type": "code",
   "execution_count": 58,
   "metadata": {},
   "outputs": [
    {
     "data": {
      "text/plain": [
       "array(['Female', 'Male'], dtype=object)"
      ]
     },
     "execution_count": 58,
     "metadata": {},
     "output_type": "execute_result"
    }
   ],
   "source": [
    "df.Gender.unique()"
   ]
  },
  {
   "cell_type": "code",
   "execution_count": 59,
   "metadata": {},
   "outputs": [
    {
     "data": {
      "text/plain": [
       "Male      5457\n",
       "Female    4543\n",
       "Name: Gender, dtype: int64"
      ]
     },
     "execution_count": 59,
     "metadata": {},
     "output_type": "execute_result"
    }
   ],
   "source": [
    "df.Gender.value_counts()"
   ]
  },
  {
   "cell_type": "code",
   "execution_count": 60,
   "metadata": {},
   "outputs": [
    {
     "data": {
      "text/plain": [
       "array(['France', 'Spain', 'Germany'], dtype=object)"
      ]
     },
     "execution_count": 60,
     "metadata": {},
     "output_type": "execute_result"
    }
   ],
   "source": [
    "df.Geography.unique()"
   ]
  },
  {
   "cell_type": "code",
   "execution_count": 61,
   "metadata": {},
   "outputs": [
    {
     "data": {
      "text/plain": [
       "France     5014\n",
       "Germany    2509\n",
       "Spain      2477\n",
       "Name: Geography, dtype: int64"
      ]
     },
     "execution_count": 61,
     "metadata": {},
     "output_type": "execute_result"
    }
   ],
   "source": [
    "df.Geography.value_counts()"
   ]
  },
  {
   "cell_type": "code",
   "execution_count": 62,
   "metadata": {},
   "outputs": [
    {
     "name": "stdout",
     "output_type": "stream",
     "text": [
      "      Germany  Spain\n",
      "0           0      0\n",
      "1           0      1\n",
      "2           0      0\n",
      "3           0      0\n",
      "4           0      1\n",
      "...       ...    ...\n",
      "9995        0      0\n",
      "9996        0      0\n",
      "9997        0      0\n",
      "9998        1      0\n",
      "9999        0      0\n",
      "\n",
      "[10000 rows x 2 columns]\n"
     ]
    }
   ],
   "source": [
    "a = pd.get_dummies(df.Gender,drop_first=True)\n",
    "b = pd.get_dummies(df.Geography,drop_first=True)\n",
    "print(b)"
   ]
  },
  {
   "cell_type": "code",
   "execution_count": 63,
   "metadata": {},
   "outputs": [],
   "source": [
    "df = pd.concat([df,a,b],axis=1)"
   ]
  },
  {
   "cell_type": "code",
   "execution_count": 64,
   "metadata": {},
   "outputs": [
    {
     "data": {
      "text/html": [
       "<div>\n",
       "<style scoped>\n",
       "    .dataframe tbody tr th:only-of-type {\n",
       "        vertical-align: middle;\n",
       "    }\n",
       "\n",
       "    .dataframe tbody tr th {\n",
       "        vertical-align: top;\n",
       "    }\n",
       "\n",
       "    .dataframe thead th {\n",
       "        text-align: right;\n",
       "    }\n",
       "</style>\n",
       "<table border=\"1\" class=\"dataframe\">\n",
       "  <thead>\n",
       "    <tr style=\"text-align: right;\">\n",
       "      <th></th>\n",
       "      <th>CreditScore</th>\n",
       "      <th>Age</th>\n",
       "      <th>Tenure</th>\n",
       "      <th>Balance</th>\n",
       "      <th>NumOfProducts</th>\n",
       "      <th>HasCrCard</th>\n",
       "      <th>IsActiveMember</th>\n",
       "      <th>EstimatedSalary</th>\n",
       "      <th>Exited</th>\n",
       "      <th>Male</th>\n",
       "      <th>Germany</th>\n",
       "      <th>Spain</th>\n",
       "    </tr>\n",
       "  </thead>\n",
       "  <tbody>\n",
       "    <tr>\n",
       "      <th>0</th>\n",
       "      <td>619</td>\n",
       "      <td>42</td>\n",
       "      <td>2</td>\n",
       "      <td>0.00</td>\n",
       "      <td>1</td>\n",
       "      <td>1</td>\n",
       "      <td>1</td>\n",
       "      <td>101348.88</td>\n",
       "      <td>1</td>\n",
       "      <td>0</td>\n",
       "      <td>0</td>\n",
       "      <td>0</td>\n",
       "    </tr>\n",
       "    <tr>\n",
       "      <th>1</th>\n",
       "      <td>608</td>\n",
       "      <td>41</td>\n",
       "      <td>1</td>\n",
       "      <td>83807.86</td>\n",
       "      <td>1</td>\n",
       "      <td>0</td>\n",
       "      <td>1</td>\n",
       "      <td>112542.58</td>\n",
       "      <td>0</td>\n",
       "      <td>0</td>\n",
       "      <td>0</td>\n",
       "      <td>1</td>\n",
       "    </tr>\n",
       "    <tr>\n",
       "      <th>2</th>\n",
       "      <td>502</td>\n",
       "      <td>42</td>\n",
       "      <td>8</td>\n",
       "      <td>159660.80</td>\n",
       "      <td>3</td>\n",
       "      <td>1</td>\n",
       "      <td>0</td>\n",
       "      <td>113931.57</td>\n",
       "      <td>1</td>\n",
       "      <td>0</td>\n",
       "      <td>0</td>\n",
       "      <td>0</td>\n",
       "    </tr>\n",
       "    <tr>\n",
       "      <th>3</th>\n",
       "      <td>699</td>\n",
       "      <td>39</td>\n",
       "      <td>1</td>\n",
       "      <td>0.00</td>\n",
       "      <td>2</td>\n",
       "      <td>0</td>\n",
       "      <td>0</td>\n",
       "      <td>93826.63</td>\n",
       "      <td>0</td>\n",
       "      <td>0</td>\n",
       "      <td>0</td>\n",
       "      <td>0</td>\n",
       "    </tr>\n",
       "    <tr>\n",
       "      <th>4</th>\n",
       "      <td>850</td>\n",
       "      <td>43</td>\n",
       "      <td>2</td>\n",
       "      <td>125510.82</td>\n",
       "      <td>1</td>\n",
       "      <td>1</td>\n",
       "      <td>1</td>\n",
       "      <td>79084.10</td>\n",
       "      <td>0</td>\n",
       "      <td>0</td>\n",
       "      <td>0</td>\n",
       "      <td>1</td>\n",
       "    </tr>\n",
       "  </tbody>\n",
       "</table>\n",
       "</div>"
      ],
      "text/plain": [
       "   CreditScore  Age  Tenure    Balance  NumOfProducts  HasCrCard  \\\n",
       "0          619   42       2       0.00              1          1   \n",
       "1          608   41       1   83807.86              1          0   \n",
       "2          502   42       8  159660.80              3          1   \n",
       "3          699   39       1       0.00              2          0   \n",
       "4          850   43       2  125510.82              1          1   \n",
       "\n",
       "   IsActiveMember  EstimatedSalary  Exited  Male  Germany  Spain  \n",
       "0               1        101348.88       1     0        0      0  \n",
       "1               1        112542.58       0     0        0      1  \n",
       "2               0        113931.57       1     0        0      0  \n",
       "3               0         93826.63       0     0        0      0  \n",
       "4               1         79084.10       0     0        0      1  "
      ]
     },
     "execution_count": 64,
     "metadata": {},
     "output_type": "execute_result"
    }
   ],
   "source": [
    "df = df.drop(['Geography','Gender','RowNumber','CustomerId','Surname'],axis=1)\n",
    "df.head()"
   ]
  },
  {
   "cell_type": "code",
   "execution_count": 65,
   "metadata": {},
   "outputs": [],
   "source": [
    "X = df.drop(['Exited'],axis=1)\n",
    "y = df.Exited"
   ]
  },
  {
   "cell_type": "code",
   "execution_count": 66,
   "metadata": {},
   "outputs": [],
   "source": [
    "from sklearn.model_selection import train_test_split\n",
    "X_train, X_test, y_train, y_test = train_test_split(X, y, test_size=0.33, random_state=42)"
   ]
  },
  {
   "cell_type": "code",
   "execution_count": 67,
   "metadata": {},
   "outputs": [
    {
     "data": {
      "text/html": [
       "<div>\n",
       "<style scoped>\n",
       "    .dataframe tbody tr th:only-of-type {\n",
       "        vertical-align: middle;\n",
       "    }\n",
       "\n",
       "    .dataframe tbody tr th {\n",
       "        vertical-align: top;\n",
       "    }\n",
       "\n",
       "    .dataframe thead th {\n",
       "        text-align: right;\n",
       "    }\n",
       "</style>\n",
       "<table border=\"1\" class=\"dataframe\">\n",
       "  <thead>\n",
       "    <tr style=\"text-align: right;\">\n",
       "      <th></th>\n",
       "      <th>CreditScore</th>\n",
       "      <th>Age</th>\n",
       "      <th>Tenure</th>\n",
       "      <th>Balance</th>\n",
       "      <th>NumOfProducts</th>\n",
       "      <th>HasCrCard</th>\n",
       "      <th>IsActiveMember</th>\n",
       "      <th>EstimatedSalary</th>\n",
       "      <th>Male</th>\n",
       "      <th>Germany</th>\n",
       "      <th>Spain</th>\n",
       "    </tr>\n",
       "  </thead>\n",
       "  <tbody>\n",
       "    <tr>\n",
       "      <th>8371</th>\n",
       "      <td>813</td>\n",
       "      <td>29</td>\n",
       "      <td>5</td>\n",
       "      <td>106059.40</td>\n",
       "      <td>1</td>\n",
       "      <td>0</td>\n",
       "      <td>0</td>\n",
       "      <td>187976.88</td>\n",
       "      <td>0</td>\n",
       "      <td>1</td>\n",
       "      <td>0</td>\n",
       "    </tr>\n",
       "    <tr>\n",
       "      <th>5027</th>\n",
       "      <td>681</td>\n",
       "      <td>37</td>\n",
       "      <td>8</td>\n",
       "      <td>73179.34</td>\n",
       "      <td>2</td>\n",
       "      <td>1</td>\n",
       "      <td>1</td>\n",
       "      <td>25292.53</td>\n",
       "      <td>1</td>\n",
       "      <td>1</td>\n",
       "      <td>0</td>\n",
       "    </tr>\n",
       "    <tr>\n",
       "      <th>9234</th>\n",
       "      <td>642</td>\n",
       "      <td>49</td>\n",
       "      <td>4</td>\n",
       "      <td>120688.61</td>\n",
       "      <td>1</td>\n",
       "      <td>1</td>\n",
       "      <td>0</td>\n",
       "      <td>24770.22</td>\n",
       "      <td>1</td>\n",
       "      <td>1</td>\n",
       "      <td>0</td>\n",
       "    </tr>\n",
       "    <tr>\n",
       "      <th>3944</th>\n",
       "      <td>612</td>\n",
       "      <td>31</td>\n",
       "      <td>8</td>\n",
       "      <td>117989.76</td>\n",
       "      <td>1</td>\n",
       "      <td>1</td>\n",
       "      <td>1</td>\n",
       "      <td>54129.86</td>\n",
       "      <td>0</td>\n",
       "      <td>0</td>\n",
       "      <td>0</td>\n",
       "    </tr>\n",
       "    <tr>\n",
       "      <th>6862</th>\n",
       "      <td>586</td>\n",
       "      <td>33</td>\n",
       "      <td>9</td>\n",
       "      <td>0.00</td>\n",
       "      <td>1</td>\n",
       "      <td>1</td>\n",
       "      <td>0</td>\n",
       "      <td>6975.02</td>\n",
       "      <td>1</td>\n",
       "      <td>0</td>\n",
       "      <td>0</td>\n",
       "    </tr>\n",
       "  </tbody>\n",
       "</table>\n",
       "</div>"
      ],
      "text/plain": [
       "      CreditScore  Age  Tenure    Balance  NumOfProducts  HasCrCard  \\\n",
       "8371          813   29       5  106059.40              1          0   \n",
       "5027          681   37       8   73179.34              2          1   \n",
       "9234          642   49       4  120688.61              1          1   \n",
       "3944          612   31       8  117989.76              1          1   \n",
       "6862          586   33       9       0.00              1          1   \n",
       "\n",
       "      IsActiveMember  EstimatedSalary  Male  Germany  Spain  \n",
       "8371               0        187976.88     0        1      0  \n",
       "5027               1         25292.53     1        1      0  \n",
       "9234               0         24770.22     1        1      0  \n",
       "3944               1         54129.86     0        0      0  \n",
       "6862               0          6975.02     1        0      0  "
      ]
     },
     "execution_count": 67,
     "metadata": {},
     "output_type": "execute_result"
    }
   ],
   "source": [
    "X_train.head()"
   ]
  },
  {
   "cell_type": "code",
   "execution_count": 68,
   "metadata": {},
   "outputs": [
    {
     "data": {
      "text/plain": [
       "8371    1\n",
       "5027    0\n",
       "9234    1\n",
       "3944    0\n",
       "6862    0\n",
       "Name: Exited, dtype: int64"
      ]
     },
     "execution_count": 68,
     "metadata": {},
     "output_type": "execute_result"
    }
   ],
   "source": [
    "y_train.head()"
   ]
  },
  {
   "cell_type": "code",
   "execution_count": 69,
   "metadata": {},
   "outputs": [],
   "source": [
    "from sklearn.preprocessing import StandardScaler\n",
    "sc = StandardScaler()\n",
    "X_train = sc.fit_transform(X_train)\n",
    "X_test = sc.transform(X_test)\n"
   ]
  },
  {
   "cell_type": "code",
   "execution_count": 80,
   "metadata": {},
   "outputs": [],
   "source": [
    "import keras\n",
    "from keras.models import Sequential\n",
    "from keras.layers import Dense\n",
    "from keras.layers import Dropout\n",
    "from keras.layers import ReLU,LeakyReLU,PReLU,ELU"
   ]
  },
  {
   "cell_type": "code",
   "execution_count": 81,
   "metadata": {},
   "outputs": [],
   "source": [
    "ann = Sequential()\n"
   ]
  },
  {
   "cell_type": "code",
   "execution_count": 83,
   "metadata": {},
   "outputs": [
    {
     "name": "stderr",
     "output_type": "stream",
     "text": [
      "C:\\Users\\korla\\Anaconda3\\lib\\site-packages\\ipykernel_launcher.py:3: UserWarning: Update your `Dense` call to the Keras 2 API: `Dense(kernel_initializer=\"glorot_uniform\", activation=\"sigmoid\", units=1)`\n",
      "  This is separate from the ipykernel package so we can avoid doing imports until\n"
     ]
    }
   ],
   "source": [
    "ann.add(Dense(units=6,kernel_initializer='he_uniform',activation='relu',input_dim=11))\n",
    "ann.add(Dense(units=6,kernel_initializer='he_uniform',activation='relu'))\n",
    "ann.add(Dense(output_dim=1,kernel_initializer='glorot_uniform',activation='sigmoid'))\n",
    "\n"
   ]
  },
  {
   "cell_type": "code",
   "execution_count": 84,
   "metadata": {},
   "outputs": [
    {
     "name": "stdout",
     "output_type": "stream",
     "text": [
      "WARNING:tensorflow:From C:\\Users\\korla\\Anaconda3\\lib\\site-packages\\tensorflow\\python\\ops\\nn_impl.py:180: add_dispatch_support.<locals>.wrapper (from tensorflow.python.ops.array_ops) is deprecated and will be removed in a future version.\n",
      "Instructions for updating:\n",
      "Use tf.where in 2.0, which has the same broadcast rule as np.where\n"
     ]
    }
   ],
   "source": [
    "ann.compile(optimizer='Adamax',loss='binary_crossentropy',metrics=['accuracy'])\n"
   ]
  },
  {
   "cell_type": "code",
   "execution_count": 85,
   "metadata": {},
   "outputs": [
    {
     "name": "stdout",
     "output_type": "stream",
     "text": [
      "WARNING:tensorflow:From C:\\Users\\korla\\Anaconda3\\lib\\site-packages\\keras\\backend\\tensorflow_backend.py:422: The name tf.global_variables is deprecated. Please use tf.compat.v1.global_variables instead.\n",
      "\n",
      "Epoch 1/100\n",
      "6700/6700 [==============================] - 2s 263us/step - loss: 0.6110 - accuracy: 0.7554\n",
      "Epoch 2/100\n",
      "6700/6700 [==============================] - 1s 166us/step - loss: 0.5306 - accuracy: 0.7919\n",
      "Epoch 3/100\n",
      "6700/6700 [==============================] - 1s 173us/step - loss: 0.5149 - accuracy: 0.7919\n",
      "Epoch 4/100\n",
      "6700/6700 [==============================] - 1s 167us/step - loss: 0.5068 - accuracy: 0.7919\n",
      "Epoch 5/100\n",
      "6700/6700 [==============================] - 1s 206us/step - loss: 0.4932 - accuracy: 0.7919\n",
      "Epoch 6/100\n",
      "6700/6700 [==============================] - 1s 167us/step - loss: 0.4742 - accuracy: 0.7919\n",
      "Epoch 7/100\n",
      "6700/6700 [==============================] - 1s 169us/step - loss: 0.4586 - accuracy: 0.7919\n",
      "Epoch 8/100\n",
      "6700/6700 [==============================] - 1s 171us/step - loss: 0.4490 - accuracy: 0.7922\n",
      "Epoch 9/100\n",
      "6700/6700 [==============================] - 1s 170us/step - loss: 0.4430 - accuracy: 0.7924\n",
      "Epoch 10/100\n",
      "6700/6700 [==============================] - 1s 212us/step - loss: 0.4383 - accuracy: 0.7964\n",
      "Epoch 11/100\n",
      "6700/6700 [==============================] - 1s 174us/step - loss: 0.4345 - accuracy: 0.7979\n",
      "Epoch 12/100\n",
      "6700/6700 [==============================] - 1s 173us/step - loss: 0.4317 - accuracy: 0.7966\n",
      "Epoch 13/100\n",
      "6700/6700 [==============================] - 1s 173us/step - loss: 0.4290 - accuracy: 0.7964\n",
      "Epoch 14/100\n",
      "6700/6700 [==============================] - 2s 239us/step - loss: 0.4265 - accuracy: 0.7988\n",
      "Epoch 15/100\n",
      "6700/6700 [==============================] - 1s 184us/step - loss: 0.4239 - accuracy: 0.8030\n",
      "Epoch 16/100\n",
      "6700/6700 [==============================] - 1s 174us/step - loss: 0.4214 - accuracy: 0.8046\n",
      "Epoch 17/100\n",
      "6700/6700 [==============================] - 1s 190us/step - loss: 0.4187 - accuracy: 0.8061\n",
      "Epoch 18/100\n",
      "6700/6700 [==============================] - 1s 184us/step - loss: 0.4162 - accuracy: 0.8052\n",
      "Epoch 19/100\n",
      "6700/6700 [==============================] - 1s 206us/step - loss: 0.4135 - accuracy: 0.8100\n",
      "Epoch 20/100\n",
      "6700/6700 [==============================] - 1s 173us/step - loss: 0.4104 - accuracy: 0.8096\n",
      "Epoch 21/100\n",
      "6700/6700 [==============================] - 1s 172us/step - loss: 0.4066 - accuracy: 0.8143\n",
      "Epoch 22/100\n",
      "6700/6700 [==============================] - 1s 172us/step - loss: 0.4025 - accuracy: 0.8166\n",
      "Epoch 23/100\n",
      "6700/6700 [==============================] - 1s 212us/step - loss: 0.3978 - accuracy: 0.8206\n",
      "Epoch 24/100\n",
      "6700/6700 [==============================] - 1s 171us/step - loss: 0.3925 - accuracy: 0.8285\n",
      "Epoch 25/100\n",
      "6700/6700 [==============================] - 1s 172us/step - loss: 0.3867 - accuracy: 0.8315\n",
      "Epoch 26/100\n",
      "6700/6700 [==============================] - 1s 172us/step - loss: 0.3814 - accuracy: 0.8346\n",
      "Epoch 27/100\n",
      "6700/6700 [==============================] - 1s 172us/step - loss: 0.3771 - accuracy: 0.8401\n",
      "Epoch 28/100\n",
      "6700/6700 [==============================] - 1s 211us/step - loss: 0.3736 - accuracy: 0.8421\n",
      "Epoch 29/100\n",
      "6700/6700 [==============================] - 1s 170us/step - loss: 0.3704 - accuracy: 0.8466\n",
      "Epoch 30/100\n",
      "6700/6700 [==============================] - 1s 171us/step - loss: 0.3684 - accuracy: 0.8455\n",
      "Epoch 31/100\n",
      "6700/6700 [==============================] - 1s 172us/step - loss: 0.3666 - accuracy: 0.8458\n",
      "Epoch 32/100\n",
      "6700/6700 [==============================] - 1s 201us/step - loss: 0.3650 - accuracy: 0.8476\n",
      "Epoch 33/100\n",
      "6700/6700 [==============================] - 1s 186us/step - loss: 0.3638 - accuracy: 0.8491\n",
      "Epoch 34/100\n",
      "6700/6700 [==============================] - 1s 174us/step - loss: 0.3631 - accuracy: 0.8479\n",
      "Epoch 35/100\n",
      "6700/6700 [==============================] - 1s 172us/step - loss: 0.3618 - accuracy: 0.8493\n",
      "Epoch 36/100\n",
      "6700/6700 [==============================] - 1s 173us/step - loss: 0.3607 - accuracy: 0.8503\n",
      "Epoch 37/100\n",
      "6700/6700 [==============================] - 2s 241us/step - loss: 0.3606 - accuracy: 0.8481\n",
      "Epoch 38/100\n",
      "6700/6700 [==============================] - 1s 200us/step - loss: 0.3593 - accuracy: 0.8504\n",
      "Epoch 39/100\n",
      "6700/6700 [==============================] - 1s 206us/step - loss: 0.3588 - accuracy: 0.8513\n",
      "Epoch 40/100\n",
      "6700/6700 [==============================] - 1s 207us/step - loss: 0.3582 - accuracy: 0.8515\n",
      "Epoch 41/100\n",
      "6700/6700 [==============================] - 1s 210us/step - loss: 0.3573 - accuracy: 0.8536\n",
      "Epoch 42/100\n",
      "6700/6700 [==============================] - 1s 175us/step - loss: 0.3564 - accuracy: 0.8524\n",
      "Epoch 43/100\n",
      "6700/6700 [==============================] - 1s 173us/step - loss: 0.3564 - accuracy: 0.8542\n",
      "Epoch 44/100\n",
      "6700/6700 [==============================] - 1s 173us/step - loss: 0.3561 - accuracy: 0.8540\n",
      "Epoch 45/100\n",
      "6700/6700 [==============================] - 1s 200us/step - loss: 0.3549 - accuracy: 0.8536\n",
      "Epoch 46/100\n",
      "6700/6700 [==============================] - 1s 184us/step - loss: 0.3545 - accuracy: 0.8540\n",
      "Epoch 47/100\n",
      "6700/6700 [==============================] - 1s 172us/step - loss: 0.3539 - accuracy: 0.8545\n",
      "Epoch 48/100\n",
      "6700/6700 [==============================] - 1s 174us/step - loss: 0.3535 - accuracy: 0.8540\n",
      "Epoch 49/100\n",
      "6700/6700 [==============================] - 1s 209us/step - loss: 0.3531 - accuracy: 0.8548\n",
      "Epoch 50/100\n",
      "6700/6700 [==============================] - 2s 293us/step - loss: 0.3526 - accuracy: 0.8564\n",
      "Epoch 51/100\n",
      "6700/6700 [==============================] - 1s 176us/step - loss: 0.3526 - accuracy: 0.8549\n",
      "Epoch 52/100\n",
      "6700/6700 [==============================] - 1s 160us/step - loss: 0.3521 - accuracy: 0.8542\n",
      "Epoch 53/100\n",
      "6700/6700 [==============================] - 1s 161us/step - loss: 0.3517 - accuracy: 0.8558\n",
      "Epoch 54/100\n",
      "6700/6700 [==============================] - 1s 214us/step - loss: 0.3521 - accuracy: 0.8555\n",
      "Epoch 55/100\n",
      "6700/6700 [==============================] - 1s 165us/step - loss: 0.3510 - accuracy: 0.8563\n",
      "Epoch 56/100\n",
      "6700/6700 [==============================] - 1s 204us/step - loss: 0.3509 - accuracy: 0.8543\n",
      "Epoch 57/100\n",
      "6700/6700 [==============================] - 1s 199us/step - loss: 0.3504 - accuracy: 0.8564\n",
      "Epoch 58/100\n",
      "6700/6700 [==============================] - 1s 210us/step - loss: 0.3502 - accuracy: 0.8572\n",
      "Epoch 59/100\n",
      "6700/6700 [==============================] - 2s 263us/step - loss: 0.3504 - accuracy: 0.8570\n",
      "Epoch 60/100\n",
      "6700/6700 [==============================] - 1s 199us/step - loss: 0.3490 - accuracy: 0.8567\n",
      "Epoch 61/100\n",
      "6700/6700 [==============================] - 2s 231us/step - loss: 0.3496 - accuracy: 0.8572\n",
      "Epoch 62/100\n",
      "6700/6700 [==============================] - 2s 270us/step - loss: 0.3489 - accuracy: 0.8578\n",
      "Epoch 63/100\n",
      "6700/6700 [==============================] - 1s 191us/step - loss: 0.3485 - accuracy: 0.8584\n",
      "Epoch 64/100\n",
      "6700/6700 [==============================] - 1s 176us/step - loss: 0.3482 - accuracy: 0.8579\n",
      "Epoch 65/100\n",
      "6700/6700 [==============================] - 1s 182us/step - loss: 0.3479 - accuracy: 0.8560\n",
      "Epoch 66/100\n",
      "6700/6700 [==============================] - 1s 189us/step - loss: 0.3473 - accuracy: 0.8572\n",
      "Epoch 67/100\n",
      "6700/6700 [==============================] - 1s 203us/step - loss: 0.3474 - accuracy: 0.8581\n",
      "Epoch 68/100\n",
      "6700/6700 [==============================] - 1s 180us/step - loss: 0.3469 - accuracy: 0.8576\n",
      "Epoch 69/100\n",
      "6700/6700 [==============================] - 1s 192us/step - loss: 0.3463 - accuracy: 0.8570\n",
      "Epoch 70/100\n",
      "6700/6700 [==============================] - 1s 182us/step - loss: 0.3468 - accuracy: 0.8561\n",
      "Epoch 71/100\n",
      "6700/6700 [==============================] - 2s 234us/step - loss: 0.3466 - accuracy: 0.8575\n",
      "Epoch 72/100\n",
      "6700/6700 [==============================] - 1s 181us/step - loss: 0.3456 - accuracy: 0.8566\n",
      "Epoch 73/100\n",
      "6700/6700 [==============================] - 1s 173us/step - loss: 0.3456 - accuracy: 0.8566\n",
      "Epoch 74/100\n",
      "6700/6700 [==============================] - 1s 173us/step - loss: 0.3458 - accuracy: 0.8566\n",
      "Epoch 75/100\n",
      "6700/6700 [==============================] - 1s 202us/step - loss: 0.3453 - accuracy: 0.8582\n",
      "Epoch 76/100\n"
     ]
    },
    {
     "name": "stdout",
     "output_type": "stream",
     "text": [
      "6700/6700 [==============================] - 1s 188us/step - loss: 0.3452 - accuracy: 0.8560\n",
      "Epoch 77/100\n",
      "6700/6700 [==============================] - 1s 171us/step - loss: 0.3449 - accuracy: 0.8579\n",
      "Epoch 78/100\n",
      "6700/6700 [==============================] - 1s 170us/step - loss: 0.3448 - accuracy: 0.8584\n",
      "Epoch 79/100\n",
      "6700/6700 [==============================] - 1s 167us/step - loss: 0.3444 - accuracy: 0.8582\n",
      "Epoch 80/100\n",
      "6700/6700 [==============================] - 1s 202us/step - loss: 0.3445 - accuracy: 0.8591\n",
      "Epoch 81/100\n",
      "6700/6700 [==============================] - 1s 167us/step - loss: 0.3449 - accuracy: 0.8566\n",
      "Epoch 82/100\n",
      "6700/6700 [==============================] - 1s 168us/step - loss: 0.3440 - accuracy: 0.8588\n",
      "Epoch 83/100\n",
      "6700/6700 [==============================] - 1s 197us/step - loss: 0.3435 - accuracy: 0.8588\n",
      "Epoch 84/100\n",
      "6700/6700 [==============================] - 1s 171us/step - loss: 0.3440 - accuracy: 0.8584\n",
      "Epoch 85/100\n",
      "6700/6700 [==============================] - 1s 205us/step - loss: 0.3434 - accuracy: 0.8599\n",
      "Epoch 86/100\n",
      "6700/6700 [==============================] - 1s 169us/step - loss: 0.3436 - accuracy: 0.8603\n",
      "Epoch 87/100\n",
      "6700/6700 [==============================] - 1s 188us/step - loss: 0.3439 - accuracy: 0.8581\n",
      "Epoch 88/100\n",
      "6700/6700 [==============================] - 1s 197us/step - loss: 0.3432 - accuracy: 0.8594\n",
      "Epoch 89/100\n",
      "6700/6700 [==============================] - 2s 277us/step - loss: 0.3432 - accuracy: 0.8612\n",
      "Epoch 90/100\n",
      "6700/6700 [==============================] - 1s 208us/step - loss: 0.3431 - accuracy: 0.8615\n",
      "Epoch 91/100\n",
      "6700/6700 [==============================] - 1s 219us/step - loss: 0.3431 - accuracy: 0.8597\n",
      "Epoch 92/100\n",
      "6700/6700 [==============================] - 2s 235us/step - loss: 0.3433 - accuracy: 0.8576\n",
      "Epoch 93/100\n",
      "6700/6700 [==============================] - 2s 246us/step - loss: 0.3431 - accuracy: 0.8584\n",
      "Epoch 94/100\n",
      "6700/6700 [==============================] - 1s 179us/step - loss: 0.3425 - accuracy: 0.8599\n",
      "Epoch 95/100\n",
      "6700/6700 [==============================] - 1s 179us/step - loss: 0.3428 - accuracy: 0.8582\n",
      "Epoch 96/100\n",
      "6700/6700 [==============================] - 1s 184us/step - loss: 0.3421 - accuracy: 0.8590\n",
      "Epoch 97/100\n",
      "6700/6700 [==============================] - 2s 236us/step - loss: 0.3424 - accuracy: 0.8594\n",
      "Epoch 98/100\n",
      "6700/6700 [==============================] - 1s 177us/step - loss: 0.3417 - accuracy: 0.8575\n",
      "Epoch 99/100\n",
      "6700/6700 [==============================] - 1s 182us/step - loss: 0.3427 - accuracy: 0.8564\n",
      "Epoch 100/100\n",
      "6700/6700 [==============================] - 1s 179us/step - loss: 0.3422 - accuracy: 0.8578\n"
     ]
    }
   ],
   "source": [
    "reg = ann.fit(X_train,y_train,validation_split=0.0,batch_size=10,epochs=100)"
   ]
  },
  {
   "cell_type": "code",
   "execution_count": 90,
   "metadata": {},
   "outputs": [],
   "source": [
    "y_pred = ann.predict(X_test)\n",
    "y_pred = y_pred > 0.5"
   ]
  },
  {
   "cell_type": "code",
   "execution_count": 91,
   "metadata": {},
   "outputs": [],
   "source": [
    "from sklearn.metrics import confusion_matrix,accuracy_score"
   ]
  },
  {
   "cell_type": "code",
   "execution_count": 92,
   "metadata": {},
   "outputs": [
    {
     "name": "stdout",
     "output_type": "stream",
     "text": [
      "[[2555  102]\n",
      " [ 333  310]]\n"
     ]
    }
   ],
   "source": [
    "print(confusion_matrix(y_test,y_pred))\n"
   ]
  },
  {
   "cell_type": "code",
   "execution_count": 93,
   "metadata": {},
   "outputs": [
    {
     "data": {
      "text/plain": [
       "0.8681818181818182"
      ]
     },
     "execution_count": 93,
     "metadata": {},
     "output_type": "execute_result"
    }
   ],
   "source": [
    "accuracy_score(y_test,y_pred)"
   ]
  },
  {
   "cell_type": "code",
   "execution_count": null,
   "metadata": {},
   "outputs": [],
   "source": []
  }
 ],
 "metadata": {
  "kernelspec": {
   "display_name": "Python 3",
   "language": "python",
   "name": "python3"
  },
  "language_info": {
   "codemirror_mode": {
    "name": "ipython",
    "version": 3
   },
   "file_extension": ".py",
   "mimetype": "text/x-python",
   "name": "python",
   "nbconvert_exporter": "python",
   "pygments_lexer": "ipython3",
   "version": "3.7.4"
  }
 },
 "nbformat": 4,
 "nbformat_minor": 2
}
